{
 "cells": [
  {
   "cell_type": "markdown",
   "id": "6610c273-9d85-4a39-a1bb-14e95ed016d3",
   "metadata": {},
   "source": [
    "## Data Processing Tasks:\n",
    "- First Task: Sort the images from the HAM100000 dataset into respective folders based off of metadata file\n",
    "- Second Task: Add the Dermnet images to their respective folders (Done manually, the Dermnet images are already sorted)\n",
    "- Third Task: Add the Dermnet watermark to all images"
   ]
  },
  {
   "cell_type": "markdown",
   "id": "d607eee2-093d-4d69-8a4c-90c0dbf355d2",
   "metadata": {},
   "source": [
    "---\n",
    "**Task 1:** Sorting ```HAM10000``` into a new directory ```sorted```"
   ]
  },
  {
   "cell_type": "code",
   "execution_count": 1,
   "id": "e6561910-6d7c-4efd-abc1-87f591d7cb56",
   "metadata": {},
   "outputs": [
    {
     "name": "stdout",
     "output_type": "stream",
     "text": [
      "[PhysicalDevice(name='/physical_device:GPU:0', device_type='GPU')]\n"
     ]
    }
   ],
   "source": [
    "import tensorflow as tf; print(tf.config.list_physical_devices('GPU'))"
   ]
  },
  {
   "cell_type": "code",
   "execution_count": 11,
   "id": "40c074ec-bbbc-4c94-a8c8-cf02b295bccf",
   "metadata": {},
   "outputs": [],
   "source": [
    "import pandas as pd\n",
    "import os\n",
    "import shutil"
   ]
  },
  {
   "cell_type": "code",
   "execution_count": 5,
   "id": "b636509c-43f9-4784-aa76-78627bb0086b",
   "metadata": {},
   "outputs": [],
   "source": [
    "metadata = pd.read_csv('Datasets/HAM10000/HAM10000_metadata')"
   ]
  },
  {
   "cell_type": "code",
   "execution_count": 6,
   "id": "5953cf4b-5c22-4af5-9fbd-4e462d59985b",
   "metadata": {
    "scrolled": true
   },
   "outputs": [
    {
     "data": {
      "text/plain": [
       "<bound method NDFrame.head of          lesion_id      image_id     dx dx_type   age     sex localization  \\\n",
       "0      HAM_0000118  ISIC_0027419    bkl   histo  80.0    male        scalp   \n",
       "1      HAM_0000118  ISIC_0025030    bkl   histo  80.0    male        scalp   \n",
       "2      HAM_0002730  ISIC_0026769    bkl   histo  80.0    male        scalp   \n",
       "3      HAM_0002730  ISIC_0025661    bkl   histo  80.0    male        scalp   \n",
       "4      HAM_0001466  ISIC_0031633    bkl   histo  75.0    male          ear   \n",
       "...            ...           ...    ...     ...   ...     ...          ...   \n",
       "10010  HAM_0002867  ISIC_0033084  akiec   histo  40.0    male      abdomen   \n",
       "10011  HAM_0002867  ISIC_0033550  akiec   histo  40.0    male      abdomen   \n",
       "10012  HAM_0002867  ISIC_0033536  akiec   histo  40.0    male      abdomen   \n",
       "10013  HAM_0000239  ISIC_0032854  akiec   histo  80.0    male         face   \n",
       "10014  HAM_0003521  ISIC_0032258    mel   histo  70.0  female         back   \n",
       "\n",
       "            dataset  \n",
       "0      vidir_modern  \n",
       "1      vidir_modern  \n",
       "2      vidir_modern  \n",
       "3      vidir_modern  \n",
       "4      vidir_modern  \n",
       "...             ...  \n",
       "10010  vidir_modern  \n",
       "10011  vidir_modern  \n",
       "10012  vidir_modern  \n",
       "10013  vidir_modern  \n",
       "10014  vidir_modern  \n",
       "\n",
       "[10015 rows x 8 columns]>"
      ]
     },
     "execution_count": 6,
     "metadata": {},
     "output_type": "execute_result"
    }
   ],
   "source": [
    "metadata.head"
   ]
  },
  {
   "cell_type": "code",
   "execution_count": 15,
   "id": "d9c01f84-5fb3-4842-94f9-8c230e93755a",
   "metadata": {},
   "outputs": [],
   "source": [
    "HAM10000 = 'Datasets/HAM10000/HAM10000_images'\n",
    "sortedHAM10000 = 'Datasets/HAM10000/sorted'\n",
    "\n",
    "for index, row in metadata.iterrows():\n",
    "    image = row['image_id'] + '.JPG'\n",
    "    source = os.path.join(HAM100, image)\n",
    "    dest = os.path.join(sortedHAM10000, row['dx'], image)\n",
    "    if os.path.isfile(source):\n",
    "        shutil.move(source, dest)"
   ]
  },
  {
   "cell_type": "markdown",
   "id": "1b420c49-f2b0-4faa-a3e1-329c74e266bd",
   "metadata": {},
   "source": [
    "---\n",
    "**Task 2:** Merge the images from Dermnet with the sorted HAM10000 directory, and move the new modified directory (Named ```skin_cancer_master```) to the location this jupyter notebook is running from (Done manually with the below mapping)"
   ]
  },
  {
   "cell_type": "markdown",
   "id": "9ebeaf88-3864-416b-82d6-7da83c06c121",
   "metadata": {},
   "source": [
    "- ```akiec_bcc``` - Contains the ```akiec```, ```bcc```, and ```Actinic keratoses, Bowen's disease, Basal Cell Carcinoma, other Malignant lesions``` folders.  - Precancerous Conditions \n",
    "- ```bkl``` - Contains the ```bkl``` and ```Seborrheic Keratoses and other Benign Tumors``` folders\n",
    "- ```df``` - Standalone folder with original ```df``` data\n",
    "- ```mel``` - Contains data from ```mel``` and melanoma images from ```Melanoma Skin Cancer Nevi and Moles``` folders\n",
    "- ```nv``` - Contains data from ```nv``` and nevus images from ```Melanoma Skin Cancer Nevi and Moles``` folders\n",
    "- ```vasc``` - contains data from ```vasc``` and ```Vascular Tumors```\n",
    "- ```other``` - Contains all other images from Dermnet dataset"
   ]
  },
  {
   "cell_type": "markdown",
   "id": "356480c8-d830-4728-9c41-eff537404243",
   "metadata": {},
   "source": [
    "---\n",
    "**Task 3:** Add Dermnet watermark  to each image"
   ]
  },
  {
   "cell_type": "code",
   "execution_count": 49,
   "id": "2e83059a-e807-45b2-90d8-e4183dbdf9af",
   "metadata": {},
   "outputs": [],
   "source": [
    "from PIL import Image\n",
    "\n",
    "watermark = Image.open('Blue_Watermark.png').convert('RGBA')\n",
    "images = 'skin_cancer_master_unwatermarked'\n",
    "new_images = 'skin_cancer_master_watermarked'\n",
    "\n",
    "for subfolder in os.listdir(images):\n",
    "    for image in os.listdir(images + '/' + subfolder):\n",
    "        if image.endswith(('jpg', 'JPG')):\n",
    "            img = Image.open(images + '/' + subfolder + '/' + image).convert('RGBA')\n",
    "            img.paste(watermark, ((img.width - watermark.width) // 2, (img.height - watermark.height) // 2), watermark)    \n",
    "            img.save(f\"{new_images}/{subfolder}/{image}.png\")"
   ]
  },
  {
   "cell_type": "code",
   "execution_count": 55,
   "id": "33818da8-3b56-4ce1-bb7e-729cae21bced",
   "metadata": {},
   "outputs": [],
   "source": [
    "watermark = Image.open('Enlarged_Gray_Watermark.png').convert('RGBA')\n",
    "img = Image.open(images + '/' + \"nv\" + '/' + \"atypical-nevi-8.JPG\").convert('RGBA')\n",
    "img.paste(watermark, ((img.width - watermark.width) // 2, (img.height - watermark.height) // 2), watermark)    \n",
    "img.save(\"one.png\")"
   ]
  },
  {
   "cell_type": "code",
   "execution_count": 56,
   "id": "95691ad5-c982-4509-a28e-d9c40561a4c9",
   "metadata": {},
   "outputs": [],
   "source": [
    "from PIL import Image\n",
    "\n",
    "watermark = Image.open('Enlarged_Gray_Watermark.png').convert('RGBA')\n",
    "images = 'skin_cancer_master_unwatermarked'\n",
    "new_images = 'skin_cancer_master_gray'\n",
    "\n",
    "for subfolder in os.listdir(images):\n",
    "    for image in os.listdir(images + '/' + subfolder):\n",
    "        if image.endswith(('jpg', 'JPG')):\n",
    "            img = Image.open(images + '/' + subfolder + '/' + image).convert('RGBA')\n",
    "            img.paste(watermark, ((img.width - watermark.width) // 2, (img.height - watermark.height) // 2), watermark)    \n",
    "            img.save(f\"{new_images}/{subfolder}/{image}.png\")"
   ]
  }
 ],
 "metadata": {
  "kernelspec": {
   "display_name": "Python (tfnn)",
   "language": "python",
   "name": "tfnn"
  },
  "language_info": {
   "codemirror_mode": {
    "name": "ipython",
    "version": 3
   },
   "file_extension": ".py",
   "mimetype": "text/x-python",
   "name": "python",
   "nbconvert_exporter": "python",
   "pygments_lexer": "ipython3",
   "version": "3.9.19"
  }
 },
 "nbformat": 4,
 "nbformat_minor": 5
}
